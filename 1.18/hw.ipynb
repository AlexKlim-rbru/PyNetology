{
 "cells": [
  {
   "cell_type": "code",
   "execution_count": 1,
   "metadata": {},
   "outputs": [],
   "source": [
    "import requests"
   ]
  },
  {
   "cell_type": "markdown",
   "metadata": {},
   "source": [
    "Задание 1\n",
    "Напишите функцию, которая возвращает название валюты (поле ‘Name’) с максимальным значением курса с помощью сервиса www.cbr-xml-daily.ru...ly_json.js"
   ]
  },
  {
   "cell_type": "code",
   "execution_count": 25,
   "metadata": {},
   "outputs": [
    {
     "data": {
      "text/plain": [
       "'СДР (специальные права заимствования)'"
      ]
     },
     "execution_count": 25,
     "metadata": {},
     "output_type": "execute_result"
    }
   ],
   "source": [
    "# функцию?\n",
    "\n",
    "def get_cur_max_rate():\n",
    "    name_vals = {v['Name']: v['Value'] \n",
    "                 for v in requests.get('https://www.cbr-xml-daily.ru/daily_json.js').\n",
    "                 json()['Valute'].values()}\n",
    "    \n",
    "    return max(name_vals, key=name_vals.get)\n",
    "    \n",
    "get_cur_max_rate()\n"
   ]
  },
  {
   "cell_type": "markdown",
   "metadata": {},
   "source": [
    "Задание 2\n",
    "Добавьте в класс Rate параметр diff (со значениями True или False), который в случае значения True в методах курсов валют (eur, usd итд) будет возвращать не курс валюты, а изменение по сравнению в прошлым значением. Считайте, self.diff будет принимать значение True только при возврате значения курса. При отображении всей информации о валюте он не используется."
   ]
  },
  {
   "cell_type": "code",
   "execution_count": 24,
   "metadata": {},
   "outputs": [
    {
     "name": "stdout",
     "output_type": "stream",
     "text": [
      "86.1919\n",
      "72.1694\n",
      "-0.13639999999999475\n",
      "-0.1565999999999974\n",
      "{'ID': 'R01239', 'NumCode': '978', 'CharCode': 'EUR', 'Nominal': 1, 'Name': 'Евро', 'Value': 86.1919, 'Previous': 86.3283}\n",
      "{'ID': 'R01235', 'NumCode': '840', 'CharCode': 'USD', 'Nominal': 1, 'Name': 'Доллар США', 'Value': 72.1694, 'Previous': 72.326}\n",
      "{'ID': 'R01239', 'NumCode': '978', 'CharCode': 'EUR', 'Nominal': 1, 'Name': 'Евро', 'Value': 86.1919, 'Previous': 86.3283}\n",
      "{'ID': 'R01235', 'NumCode': '840', 'CharCode': 'USD', 'Nominal': 1, 'Name': 'Доллар США', 'Value': 72.1694, 'Previous': 72.326}\n"
     ]
    }
   ],
   "source": [
    "class Rate:\n",
    "    def __init__(self, format_='value', diff=True):\n",
    "        \n",
    "        \"\"\"\n",
    "        Определяет состав информации, возвращаемой методами валют:\n",
    "        'full' - вся информация, 'value' - значение курса\n",
    "        \"\"\"\n",
    "        self.format = format_\n",
    "        \n",
    "        \"\"\"\n",
    "        Определяет состав информации, возвращаемой методами валют при self.format='value':\n",
    "        True - значение курса, False - разница с предыдущим курсом\n",
    "        \"\"\"\n",
    "        self.diff=diff\n",
    "    \n",
    "    def exchange_rates(self):\n",
    "        \"\"\"Возвращает ответ сервиса с информацией о валютах\"\"\"\n",
    "        self.r = requests.get('https://www.cbr-xml-daily.ru/daily_json.js')\n",
    "        return self.r.json()['Valute']\n",
    "    \n",
    "    def make_format(self, currency):\n",
    "        \"\"\"Определяет и возвращает состав и формат данных, возвращаемых методами валют\"\"\"\n",
    "        response = self.exchange_rates()\n",
    "        \n",
    "        if currency in response:\n",
    "            if self.format == 'full':\n",
    "                return response[currency]\n",
    "            \n",
    "            if self.format == 'value':\n",
    "                if self.diff:\n",
    "                    return response[currency]['Value']\n",
    "                else:\n",
    "                    return response[currency]['Value']-response[currency]['Previous']\n",
    "            \n",
    "        return 'Error'\n",
    "    \n",
    "    def eur(self):\n",
    "        \"\"\"Возвращает курс евро согласно определенному формату\"\"\"\n",
    "        return self.make_format('EUR')\n",
    "    \n",
    "    def usd(self):\n",
    "        \"\"\"Возвращает курс доллара согласно определенному формату\"\"\"\n",
    "        return self.make_format('USD')\n",
    "    \n",
    "    def brl(self):\n",
    "        \"\"\"Возвращает курс бразильского реала согласно определенному формату\"\"\"\n",
    "        return self.make_format('BRL')\n",
    "    \n",
    "rate = Rate()\n",
    "print(rate.eur())\n",
    "print(rate.usd())\n",
    "rate.diff=False\n",
    "print(rate.eur())\n",
    "print(rate.usd())\n",
    "rate.format='full'\n",
    "print(rate.eur())\n",
    "print(rate.usd())\n",
    "rate.diff=False\n",
    "print(rate.eur())\n",
    "print(rate.usd())"
   ]
  },
  {
   "cell_type": "markdown",
   "metadata": {},
   "source": [
    "Задание 3\n",
    "Напишите класс Designer, который учитывает количество международных премий. Подсказки в коде занятия в разделе “Домашнее задание задача 3”.\n",
    "\n",
    "Комментарий по классу Designer такой:\n",
    "Напишите класс Designer, который учитывает количество международных премий для дизайнеров (из презентации: “Повышение на 1 грейд за каждые 7 баллов. Получение международной премии – это +2 балла”). Считайте, что при выходе на работу сотрудник уже имеет две премии и их количество не меняется со стажем (конечно если хотите это можно вручную менять).\n",
    "\n",
    "Класс Designer пишется по аналогии с классом Developer из материалов занятия."
   ]
  },
  {
   "cell_type": "code",
   "execution_count": 23,
   "metadata": {},
   "outputs": [
    {
     "name": "stdout",
     "output_type": "stream",
     "text": [
      "Вася 1\n",
      "Вася 2\n",
      "Вася 2\n",
      "Вася 2\n",
      "Вася 3\n",
      "Вася 3\n",
      "Вася 3\n",
      "Вася 3\n",
      "Вася 4\n",
      "Вася 4\n",
      "Вася 4\n",
      "Вася 5\n",
      "Вася 5\n",
      "Вася 5\n",
      "Вася 5\n",
      "Вася 6\n",
      "Вася 6\n",
      "Вася 6\n",
      "Вася 7\n"
     ]
    }
   ],
   "source": [
    "class Employee:\n",
    "    def __init__(self, name, seniority):\n",
    "        self.name = name\n",
    "        self.seniority = seniority\n",
    "        self.grade = 1\n",
    "    \n",
    "    def grade_up(self):\n",
    "        \"\"\"Повышает уровень сотрудника\"\"\"\n",
    "        self.grade += 1\n",
    "    \n",
    "    def publish_grade(self):\n",
    "        \"\"\"Публикация результатов аккредитации сотрудников\"\"\"\n",
    "        print(self.name, self.grade)\n",
    "    \n",
    "    def check_if_it_is_time_for_upgrade(self):\n",
    "        pass\n",
    "    \n",
    "\n",
    "class Designer(Employee):\n",
    "    def __init__(self, name):\n",
    "        super().__init__(name, 4)\n",
    "        \n",
    "    def add_prize(self):\n",
    "        self.seniority += 2\n",
    "        self.check_upgrade()\n",
    "        \n",
    "    def check_upgrade(self):\n",
    "        if self.seniority // 7 > self.grade - 1:\n",
    "            self.grade_up()\n",
    "        return self.publish_grade()\n",
    "    \n",
    "designer = Designer('Вася')\n",
    "for z in range(1,20):\n",
    "    designer.add_prize()"
   ]
  }
 ],
 "metadata": {
  "kernelspec": {
   "display_name": "Python 3",
   "language": "python",
   "name": "python3"
  },
  "language_info": {
   "codemirror_mode": {
    "name": "ipython",
    "version": 3
   },
   "file_extension": ".py",
   "mimetype": "text/x-python",
   "name": "python",
   "nbconvert_exporter": "python",
   "pygments_lexer": "ipython3",
   "version": "3.8.5"
  }
 },
 "nbformat": 4,
 "nbformat_minor": 4
}
