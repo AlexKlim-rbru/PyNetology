{
 "cells": [
  {
   "cell_type": "markdown",
   "metadata": {},
   "source": [
    "Домашнее задание\n",
    "\n",
    "Переведите содержимое файла purchase_log.txt в словарь purchases вида:\n",
    "{‘1840e0b9d4’: ‘Продукты’, …}\n",
    "\n",
    "Для каждого user_id в файле visit_log.csv определите третий столбец с категорией покупки (если покупка была, сам файл visit_log.csv изменять не надо). Запишите в файл funnel.csv визиты из файла visit_log.csv, в которых были покупки с указанием категории.\n",
    "Учтите условия на данные:\n",
    "содержимое purchase_log.txt помещается в оперативную память компьютера\n",
    "содержимое visit_log.csv - нет; используйте только построчную обработку этого файла"
   ]
  },
  {
   "cell_type": "code",
   "execution_count": 10,
   "metadata": {},
   "outputs": [
    {
     "name": "stdout",
     "output_type": "stream",
     "text": [
      "done\n"
     ]
    }
   ],
   "source": [
    "import os\n",
    "import json\n",
    "purchases = {}\n",
    "with open(os.path.join('hw_data','purchase_log.txt'), encoding='utf-8') as fp:\n",
    "    purchases = {v['user_id']: v['category'] for v in [json.loads(r) for r in fp.readlines()[1:]]}\n",
    "with open(os.path.join('hw_data','funnel.csv'), 'w') as ff:\n",
    "    with open(os.path.join('hw_data','visit_log.csv')) as fv: #, encoding='utf-8'\n",
    "        fv.readline()\n",
    "        while True:\n",
    "            l = fv.readline()\n",
    "            if not l:\n",
    "                break\n",
    "            visit = l.strip('\\n\\r').split(',')\n",
    "            purchase = purchases.get(visit[0])\n",
    "            if purchase:\n",
    "                visit.append(purchase)\n",
    "                ff.write(','.join(visit) + '\\n')\n",
    "print('done')\n",
    "            "
   ]
  }
 ],
 "metadata": {
  "kernelspec": {
   "display_name": "Python 3",
   "language": "python",
   "name": "python3"
  },
  "language_info": {
   "codemirror_mode": {
    "name": "ipython",
    "version": 3
   },
   "file_extension": ".py",
   "mimetype": "text/x-python",
   "name": "python",
   "nbconvert_exporter": "python",
   "pygments_lexer": "ipython3",
   "version": "3.8.5"
  }
 },
 "nbformat": 4,
 "nbformat_minor": 4
}
